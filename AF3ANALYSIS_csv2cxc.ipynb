{
  "cells": [
    {
      "cell_type": "markdown",
      "metadata": {
        "id": "view-in-github",
        "colab_type": "text"
      },
      "source": [
        "<a href=\"https://colab.research.google.com/github/yongchanzzz/AF3ANALYSIS/blob/main/AF3ANALYSIS_csv2cxc.ipynb\" target=\"_parent\"><img src=\"https://colab.research.google.com/assets/colab-badge.svg\" alt=\"Open In Colab\"/></a>"
      ]
    },
    {
      "cell_type": "markdown",
      "metadata": {
        "id": "9cfb1d52"
      },
      "source": [
        "# AF3ANALYSIS CSV to ChimeraX commands\n",
        "This notebook processes CSV files exported from the AF3ANALYSIS website to generate ChimeraX distance commands.\n"
      ],
      "id": "9cfb1d52"
    },
    {
      "cell_type": "code",
      "execution_count": null,
      "metadata": {
        "id": "6323fff1",
        "cellView": "form"
      },
      "outputs": [],
      "source": [
        "#@title Import necessary libraries and upload files\n",
        "import re\n",
        "import csv\n",
        "import pandas as pd\n",
        "from google.colab import files\n",
        "from datetime import datetime\n",
        "\n",
        "uploaded_files = files.upload()"
      ],
      "id": "6323fff1"
    },
    {
      "cell_type": "code",
      "execution_count": null,
      "metadata": {
        "id": "22367b75",
        "cellView": "form"
      },
      "outputs": [],
      "source": [
        "#@title PAE cutoff\n",
        "pae_cutoff = 5.0 #@param"
      ],
      "id": "22367b75"
    },
    {
      "cell_type": "code",
      "execution_count": null,
      "metadata": {
        "id": "a4fb77ce",
        "cellView": "form"
      },
      "outputs": [],
      "source": [
        "#@title Run codes and generate csv\n",
        "\n",
        "# Step 2: Get the file name\n",
        "file_name = list(uploaded_files.keys())[0]\n",
        "\n",
        "# Step 3: Read the CSV file into a pandas DataFrame\n",
        "data = pd.read_csv(file_name)\n",
        "\n",
        "# Step 4: Sort the data by 'min_inter_res_pae'\n",
        "data_sorted = data.sort_values(by='min_inter_res_pae')\n",
        "\n",
        "# Step 5: Filter rows where 'min_inter_res_pae' <= 5.0\n",
        "data_filtered = data_sorted[data_sorted['min_inter_res_pae'] <= pae_cutoff].copy()\n",
        "\n",
        "# Step 6: Standardize pairs to remove duplicates\n",
        "data_filtered.loc[:, 'pair'] = data_filtered.apply(\n",
        "    lambda row: tuple(sorted([(row['chain_1'], row['res_1_ix']), (row['chain_2'], row['res_2_ix'])])),\n",
        "    axis=1\n",
        ")\n",
        "data_unique = data_filtered.drop_duplicates(subset=['pair']).copy()\n",
        "\n",
        "# Step 7: Select the required columns\n",
        "selected_columns = data_unique[['chain_1', 'chain_2', 'res_1_ix', 'res_2_ix']].copy()\n",
        "\n",
        "# Step 8: Format the data for ChimeraX commands\n",
        "def format_chimerax_command(row):\n",
        "    return f\"distance\\t/{row['chain_1']}:{row['res_1_ix']}@CA\\t/{row['chain_2']}:{row['res_2_ix']}@CA\"\n",
        "\n",
        "selected_columns['chimerax_command'] = selected_columns.apply(format_chimerax_command, axis=1)"
      ],
      "id": "a4fb77ce"
    },
    {
      "cell_type": "code",
      "execution_count": null,
      "metadata": {
        "id": "d9a2a38e",
        "cellView": "form"
      },
      "outputs": [],
      "source": [
        "#@title Automatic download\n",
        "\n",
        "# Save the formatted commands to a text file\n",
        "now = datetime.now()\n",
        "timestamp_str = now.strftime('%Y%m%d_%H%M%S')\n",
        "output_file_path = f\"AF3ANALYSIS_{timestamp_str}_PAE{pae_cutoff}.cxc\"\n",
        "selected_columns['chimerax_command'].to_csv(output_file_path, index=False, header=False)\n",
        "\n",
        "print(f\"ChimeraX commands saved to: {output_file_path}\")\n",
        "files.download(output_file_path)"
      ],
      "id": "d9a2a38e"
    }
  ],
  "metadata": {
    "colab": {
      "provenance": [],
      "include_colab_link": true
    },
    "kernelspec": {
      "display_name": "Python 3",
      "name": "python3"
    },
    "language_info": {
      "name": "python"
    }
  },
  "nbformat": 4,
  "nbformat_minor": 5
}